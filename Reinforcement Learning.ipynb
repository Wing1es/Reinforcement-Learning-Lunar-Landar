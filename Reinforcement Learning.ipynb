{
 "cells": [
  {
   "cell_type": "code",
   "execution_count": 1,
   "id": "4a56b5d6-1c69-41bc-8765-6f1085c616ef",
   "metadata": {},
   "outputs": [],
   "source": [
    "import numpy as np\n",
    "import pandas as pd\n",
    "import tensorflow as tf"
   ]
  },
  {
   "cell_type": "code",
   "execution_count": 2,
   "id": "2ae4b58e-849d-40bf-b6e8-644bc13920b1",
   "metadata": {},
   "outputs": [],
   "source": [
    "from tensorflow.keras.layers import Input,Dense\n",
    "from tensorflow.keras.losses import MSE\n",
    "from tensorflow.keras.optimizers import Adam\n",
    "from tensorflow.keras import Sequential\n",
    "from pyvirtualdisplay import Display\n",
    "import time\n",
    "import gym\n",
    "from collections import namedtuple, deque\n",
    "import PIL.Image"
   ]
  },
  {
   "cell_type": "code",
   "execution_count": 3,
   "id": "231adb71-08fd-4394-8313-b39795679f70",
   "metadata": {},
   "outputs": [],
   "source": [
    "tf.random.set_seed(0)"
   ]
  },
  {
   "cell_type": "code",
   "execution_count": 4,
   "id": "5baf6651-5372-4fde-ad45-dfec1943f826",
   "metadata": {},
   "outputs": [],
   "source": [
    "MEMORY_SIZE = 100_000\n",
    "GAMMA = 0.995\n",
    "ALPHA = 1e-3\n",
    "NUM_STEPS_FOR_UPDATE = 4"
   ]
  },
  {
   "cell_type": "code",
   "execution_count": 5,
   "id": "5f824a8b-4dc6-4869-88fa-f0e5b207193b",
   "metadata": {},
   "outputs": [
    {
     "name": "stderr",
     "output_type": "stream",
     "text": [
      "C:\\Users\\Shekar\\Documents\\Scripts\\tensorflow\\tensorenv\\Lib\\site-packages\\pygame\\pkgdata.py:25: UserWarning: pkg_resources is deprecated as an API. See https://setuptools.pypa.io/en/latest/pkg_resources.html. The pkg_resources package is slated for removal as early as 2025-11-30. Refrain from using this package or pin to Setuptools<81.\n",
      "  from pkg_resources import resource_stream, resource_exists\n"
     ]
    }
   ],
   "source": [
    "env = gym.make('LunarLander-v2', render_mode='rgb_array')"
   ]
  },
  {
   "cell_type": "code",
   "execution_count": 6,
   "id": "b0c45785-fc98-4915-bb03-17ec90398c9f",
   "metadata": {},
   "outputs": [
    {
     "data": {
      "image/jpeg": "[encoded data removed]",
      "image/png": "[encoded data removed]",
      "text/plain": [
       "<PIL.Image.Image image mode=RGB size=600x400>"
      ]
     },
     "execution_count": 6,
     "metadata": {},
     "output_type": "execute_result"
    }
   ],
   "source": [
    "env.reset()\n",
    "PIL.Image.fromarray(env.render())"
   ]
  },
  {
   "cell_type": "code",
   "execution_count": 7,
   "id": "42c60dc3-2bf9-4655-a077-ad0d82201617",
   "metadata": {},
   "outputs": [
    {
     "name": "stdout",
     "output_type": "stream",
     "text": [
      "State Shape: (8,)\n",
      "Number of actions: 4\n"
     ]
    }
   ],
   "source": [
    "state_size = env.observation_space.shape\n",
    "num_actions = env.action_space.n\n",
    "\n",
    "print('State Shape:', state_size)\n",
    "print('Number of actions:', num_actions)"
   ]
  },
  {
   "cell_type": "code",
   "execution_count": 8,
   "id": "5673e9f8-ba7e-434e-8124-a7d7e1a38434",
   "metadata": {},
   "outputs": [],
   "source": [
    "# Reset the environment and get the initial state.\n",
    "initial_state = env.reset()"
   ]
  },
  {
   "cell_type": "code",
   "execution_count": 9,
   "id": "af7415b9-4829-4c9c-a6b8-73522be06d51",
   "metadata": {},
   "outputs": [
    {
     "name": "stdout",
     "output_type": "stream",
     "text": [
      "Initial State: (array([-0.005, 1.419, -0.520, 0.353, 0.006, 0.118, 0.000, 0.000],\n",
      "      dtype=float32), {})\n",
      "Action: 0\n",
      "Next State: [-0.010 1.426 -0.520 0.327 0.012 0.117 0.000 0.000]\n",
      "Reward Received: 0.1439649053857579\n",
      "Episode Terminated: False\n",
      "Info: False\n"
     ]
    }
   ],
   "source": [
    "action = 0\n",
    "\n",
    "next_state,reward,done,info, *rest = env.step(action)\n",
    "\n",
    "with np.printoptions(formatter={'float': '{:.3f}'.format}):\n",
    "    print(\"Initial State:\", initial_state)\n",
    "    print(\"Action:\", action)\n",
    "    print(\"Next State:\", next_state)\n",
    "    print(\"Reward Received:\", reward)\n",
    "    print(\"Episode Terminated:\", done)\n",
    "    print(\"Info:\", info)"
   ]
  },
  {
   "cell_type": "code",
   "execution_count": 10,
   "id": "9a8113a6-22aa-4021-94bb-ad1532fa0f9a",
   "metadata": {},
   "outputs": [],
   "source": [
    "q_network = Sequential([\n",
    "    Input(shape=state_size),\n",
    "    Dense(64,'relu'),\n",
    "    Dense(64,'relu'),\n",
    "    Dense(num_actions,'linear')\n",
    "])\n",
    "\n",
    "target_q_network = Sequential([\n",
    "    Input(shape=state_size),\n",
    "    Dense(64,'relu'),\n",
    "    Dense(64,'relu'),\n",
    "    Dense(num_actions,'linear')\n",
    "])\n",
    "\n",
    "optimizer = Adam(learning_rate=ALPHA)"
   ]
  },
  {
   "cell_type": "code",
   "execution_count": 25,
   "id": "c8aa470d-9aa1-4545-9858-d0030857cf82",
   "metadata": {},
   "outputs": [],
   "source": [
    "experience = namedtuple('Experience',['state','action','reward','next_state','done'])"
   ]
  },
  {
   "cell_type": "code",
   "execution_count": 12,
   "id": "885f2a41-ba04-4f0a-8bfd-2ab9628770e1",
   "metadata": {},
   "outputs": [],
   "source": [
    "def update_target_network(q_network,target_q_network):\n",
    "    for target_weights,q_weights in zip(target_q_network.weights,q_network.weights):\n",
    "        target_weights.assign(TAU*q_weights + (1-TAU)*target_weights)"
   ]
  },
  {
   "cell_type": "code",
   "execution_count": 13,
   "id": "b353351c-01b4-4c2f-97c2-349545a25543",
   "metadata": {},
   "outputs": [],
   "source": [
    "def compute_loss(experiences,gamma,q_network,target_q_network):\n",
    "    states,actions,rewards,next_states,done_vals = experiences\n",
    "\n",
    "    max_qsa = tf.reduce_max(target_q_network(next_states),axis=-1)\n",
    "\n",
    "    y_targets = rewards + gamma*(1-done_vals)*max_qsa\n",
    "\n",
    "    q_values = q_network(states)\n",
    "    q_values = tf.gather_nd(q_values,tf.stack([tf.range(q_values.shape[0]),tf.cast(actions, tf.int32)],axis=1))\n",
    "    \n",
    "    loss = MSE(y_targets,q_values)\n",
    "\n",
    "    return loss"
   ]
  },
  {
   "cell_type": "code",
   "execution_count": 14,
   "id": "112636bb-be3b-44b7-aee5-dac38cd7f5f5",
   "metadata": {},
   "outputs": [],
   "source": [
    "@tf.function\n",
    "def agent_learn(experiences,gamma):\n",
    "    with tf.GradientTape() as tape:\n",
    "        loss = compute_loss(experiences,gamma,q_network,target_q_network)\n",
    "        gradients = tape.gradient(loss,q_network.trainable_variables)\n",
    "\n",
    "        optimizer.apply_gradients(zip(gradients,q_network.trainable_variables))\n",
    "        update_target_network(q_network,target_q_network)"
   ]
  },
  {
   "cell_type": "code",
   "execution_count": 15,
   "id": "00884ced-eea9-4fc9-a0aa-4c9a8bcea5b2",
   "metadata": {},
   "outputs": [],
   "source": [
    "def get_action(q_values,epsilon):\n",
    "    if np.random.rand() > epsilon:\n",
    "        return np.argmax(q_values.numpy()[0])\n",
    "    else:\n",
    "        return np.random.choice(np.arange(4))"
   ]
  },
  {
   "cell_type": "code",
   "execution_count": 16,
   "id": "d291e0a0-ebae-4076-90fd-c0af7eead05d",
   "metadata": {},
   "outputs": [],
   "source": [
    "def check_update_conditions(t,num_steps_upd,memory_buffer):\n",
    "    if (t+1)%num_steps_upd==0 and len(memory_buffer) >= MINIBATCH_SIZE:\n",
    "        return True\n",
    "    else:\n",
    "        return False"
   ]
  },
  {
   "cell_type": "code",
   "execution_count": 17,
   "id": "977f3b0b-8f4a-4f8c-8aca-c0b15d71376d",
   "metadata": {},
   "outputs": [],
   "source": [
    "def get_experiences(memory_buffer):\n",
    "    experiences = random.sample(memory_buffer, k=MINIBATCH_SIZE)\n",
    "    states = tf.convert_to_tensor(np.array([e.state for e in experiences if e is not None]),dtype=tf.float32)\n",
    "    actions = tf.convert_to_tensor(np.array([e.action for e in experiences if e is not None]),dtype=tf.float32)\n",
    "    rewards = tf.convert_to_tensor(np.array([e.reward for e in experiences if e is not None]), dtype=tf.float32)\n",
    "    next_states = tf.convert_to_tensor(np.array([e.next_state for e in experiences if e is not None]),dtype=tf.float32)\n",
    "    done_vals = tf.convert_to_tensor(np.array([e.done for e in experiences if e is not None]).astype(np.uint8),\n",
    "                                     dtype=tf.float32)\n",
    "    return (states, actions, rewards, next_states, done_vals)"
   ]
  },
  {
   "cell_type": "code",
   "execution_count": 18,
   "id": "b381574c-04ec-4534-abe8-4859af9b0a0d",
   "metadata": {},
   "outputs": [],
   "source": [
    "def get_new_eps(epsilon):\n",
    "    return max(E_MIN, E_DECAY*epsilon)"
   ]
  },
  {
   "cell_type": "code",
   "execution_count": 19,
   "id": "351271d1-5235-4300-8917-52a2d8a90597",
   "metadata": {},
   "outputs": [],
   "source": [
    "import random\n",
    "MINIBATCH_SIZE = 64   # mini-batch size\n",
    "TAU = 1e-3            # soft update parameter\n",
    "E_DECAY = 0.995       # ε decay rate for ε-greedy policy\n",
    "E_MIN = 0.01  "
   ]
  },
  {
   "cell_type": "code",
   "execution_count": 26,
   "id": "adea120d-4ec2-4483-a407-d3fe00a66903",
   "metadata": {},
   "outputs": [
    {
     "name": "stdout",
     "output_type": "stream",
     "text": [
      "Episode 100 | Total point average of the last 100 episodes: -164.13\n",
      "Episode 200 | Total point average of the last 100 episodes: -116.06\n",
      "Episode 300 | Total point average of the last 100 episodes: -47.343\n",
      "Episode 400 | Total point average of the last 100 episodes: -14.21\n",
      "Episode 500 | Total point average of the last 100 episodes: 52.635\n",
      "Episode 600 | Total point average of the last 100 episodes: 147.87\n",
      "Episode 700 | Total point average of the last 100 episodes: 193.12\n",
      "Episode 704 | Total point average of the last 100 episodes: 197.96"
     ]
    },
    {
     "name": "stderr",
     "output_type": "stream",
     "text": [
      "WARNING:absl:You are saving your model as an HDF5 file via `model.save()` or `keras.saving.save_model(model)`. This file format is considered legacy. We recommend using instead the native Keras format, e.g. `model.save('my_model.keras')` or `keras.saving.save_model(model, 'my_model.keras')`. \n"
     ]
    },
    {
     "name": "stdout",
     "output_type": "stream",
     "text": [
      "Episode 705 | Total point average of the last 100 episodes: 200.68\n",
      "\n",
      "Environment solved in 705 episodes!\n",
      "\n",
      "Total Runtime: 5536.03 s (92.27 min)\n"
     ]
    }
   ],
   "source": [
    "start = time.time()\n",
    "num_episodes = 2000\n",
    "max_num_timesteps = 1000\n",
    "total_point_history = []\n",
    "\n",
    "num_p_av = 100    # number of total points to use for averaging\n",
    "epsilon = 1.0     # initial ε value for ε-greedy policy\n",
    "\n",
    "memory_buffer = deque(maxlen=MEMORY_SIZE)\n",
    "\n",
    "target_q_network.set_weights(q_network.get_weights())\n",
    "\n",
    "for i in range(num_episodes):\n",
    "    state = env.reset()\n",
    "    state = state[0]\n",
    "\n",
    "    total_points = 0\n",
    "\n",
    "    for j in range(max_num_timesteps):\n",
    "        state_qn = np.expand_dims(state,axis=0)\n",
    "        q_values= q_network(state_qn)\n",
    "        action = get_action(q_values,epsilon)\n",
    "        \n",
    "        next_state, reward, done, info, *rest = env.step(action)\n",
    "        memory_buffer.append(experience(state, action, reward, next_state, done))\n",
    "\n",
    "        update = check_update_conditions(j, NUM_STEPS_FOR_UPDATE, memory_buffer)\n",
    "\n",
    "        if update:\n",
    "            experiences = get_experiences(memory_buffer)\n",
    "            agent_learn(experiences, GAMMA)\n",
    "        state = next_state.copy()\n",
    "        total_points += reward\n",
    "\n",
    "        if done:\n",
    "            break\n",
    "\n",
    "    total_point_history.append(total_points)\n",
    "    av_latest_points = np.mean(total_point_history[-num_p_av:])\n",
    "\n",
    "    epsilon = get_new_eps(epsilon)\n",
    "\n",
    "    print(f\"\\rEpisode {i+1} | Total point average of the last {num_p_av} episodes: {av_latest_points:.2f}\", end=\"\")\n",
    "\n",
    "    if (i+1) % num_p_av == 0:\n",
    "        print(f\"\\rEpisode {i+1} | Total point average of the last {num_p_av} episodes: {av_latest_points:.2f}\")\n",
    "\n",
    "    # We will consider that the environment is solved if we get an\n",
    "    # average of 200 points in the last 100 episodes.\n",
    "    if av_latest_points >= 200.0:\n",
    "        print(f\"\\n\\nEnvironment solved in {i+1} episodes!\")\n",
    "\n",
    "        # save the model\n",
    "        q_network.save('lunar_lander_model.h5')\n",
    "        break\n",
    "        \n",
    "tot_time = time.time() - start\n",
    "print(f\"\\nTotal Runtime: {tot_time:.2f} s ({(tot_time/60):.2f} min)\")"
   ]
  },
  {
   "cell_type": "code",
   "execution_count": 27,
   "id": "3af326ed-1c39-43ed-863f-617627e216f0",
   "metadata": {},
   "outputs": [],
   "source": [
    "def create_video(filename, env, q_network, fps=30):\n",
    "    with imageio.get_writer(filename, fps=fps) as video:\n",
    "        done = False\n",
    "        state = env.reset()\n",
    "        state = state[0]\n",
    "        frame = env.render()\n",
    "        video.append_data(frame)\n",
    "        while not done:    \n",
    "            state = np.expand_dims(state, axis=0)\n",
    "            q_values = q_network(state)\n",
    "            action = np.argmax(q_values.numpy()[0])\n",
    "            state, reward, done, info, *rest = env.step(action)\n",
    "            frame = env.render()\n",
    "            video.append_data(frame)"
   ]
  },
  {
   "cell_type": "code",
   "execution_count": 29,
   "id": "963be275-8417-44c6-b951-0f4c560d04d4",
   "metadata": {},
   "outputs": [
    {
     "name": "stderr",
     "output_type": "stream",
     "text": [
      "WARNING:imageio_ffmpeg:IMAGEIO FFMPEG_WRITER WARNING: input image is not divisible by macro_block_size=16, resizing from (600, 400) to (608, 400) to ensure video compatibility with most codecs and players. To prevent resizing, make your input image divisible by the macro_block_size or set the macro_block_size to 1 (risking incompatibility).\n"
     ]
    },
    {
     "ename": "NameError",
     "evalue": "name 'embed_mp4' is not defined",
     "output_type": "error",
     "traceback": [
      "\u001b[31m---------------------------------------------------------------------------\u001b[39m",
      "\u001b[31mNameError\u001b[39m                                 Traceback (most recent call last)",
      "\u001b[36mCell\u001b[39m\u001b[36m \u001b[39m\u001b[32mIn[29]\u001b[39m\u001b[32m, line 3\u001b[39m\n\u001b[32m      1\u001b[39m \u001b[38;5;28;01mimport\u001b[39;00m\u001b[38;5;250m \u001b[39m\u001b[34;01mimageio\u001b[39;00m\n\u001b[32m      2\u001b[39m create_video(\u001b[33m'\u001b[39m\u001b[33mlunar_lander.mp4\u001b[39m\u001b[33m'\u001b[39m, env, q_network)\n\u001b[32m----> \u001b[39m\u001b[32m3\u001b[39m \u001b[43membed_mp4\u001b[49m(\u001b[33m'\u001b[39m\u001b[33mlunar_lander.mp4\u001b[39m\u001b[33m'\u001b[39m)\n",
      "\u001b[31mNameError\u001b[39m: name 'embed_mp4' is not defined"
     ]
    }
   ],
   "source": [
    "import imageio\n",
    "create_video('lunar_lander.mp4', env, q_network)"
   ]
  },
  {
   "cell_type": "code",
   "execution_count": null,
   "id": "6393da25-1891-4223-8383-f568dddc36d9",
   "metadata": {},
   "outputs": [],
   "source": []
  }
 ],
 "metadata": {
  "kernelspec": {
   "display_name": "tfpractice",
   "language": "python",
   "name": "tfpractice"
  },
  "language_info": {
   "codemirror_mode": {
    "name": "ipython",
    "version": 3
   },
   "file_extension": ".py",
   "mimetype": "text/x-python",
   "name": "python",
   "nbconvert_exporter": "python",
   "pygments_lexer": "ipython3",
   "version": "3.11.9"
  }
 },
 "nbformat": 4,
 "nbformat_minor": 5
}
